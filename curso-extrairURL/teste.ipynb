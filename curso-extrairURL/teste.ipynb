{
 "cells": [
  {
   "cell_type": "code",
   "execution_count": 5,
   "metadata": {},
   "outputs": [
    {
     "name": "stdout",
     "output_type": "stream",
     "text": [
      "23440-120\n"
     ]
    }
   ],
   "source": [
    "import re  # regular expression ou RegEx\n",
    "endereco = \"Rua da Flores 72, apartamento 1002, Laranjeiras, Rio de Janeiro, RJ, 23440-120\"\n",
    "padrao = re.compile(\"[0-9]{5}[-]{0,1}?[0-9]{3}\")\n",
    "busca = padrao.search(endereco)\n",
    "if busca:\n",
    "    cep = busca.group()\n",
    "    print(cep)\n"
   ]
  },
  {
   "cell_type": "code",
   "execution_count": 14,
   "metadata": {},
   "outputs": [
    {
     "name": "stdout",
     "output_type": "stream",
     "text": [
      "a url e valida\n"
     ]
    }
   ],
   "source": [
    "import re\n",
    "\n",
    "url = 'bytebank.com/cambio'\n",
    "padrao_url = re.compile('(http(s)?://)?(www.)?bytebank.com(.br)?/cambio')\n",
    "match = padrao_url.match(url)\n",
    "\n",
    "if not match:\n",
    "    raise ValueError(\"A URL nao e valida\")\n",
    "print(\"a url e valida\")"
   ]
  },
  {
   "cell_type": "code",
   "execution_count": null,
   "metadata": {},
   "outputs": [],
   "source": []
  }
 ],
 "metadata": {
  "kernelspec": {
   "display_name": "Python 3",
   "language": "python",
   "name": "python3"
  },
  "language_info": {
   "codemirror_mode": {
    "name": "ipython",
    "version": 3
   },
   "file_extension": ".py",
   "mimetype": "text/x-python",
   "name": "python",
   "nbconvert_exporter": "python",
   "pygments_lexer": "ipython3",
   "version": "3.10.10"
  },
  "orig_nbformat": 4
 },
 "nbformat": 4,
 "nbformat_minor": 2
}
