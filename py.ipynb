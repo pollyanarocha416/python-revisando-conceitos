{
 "cells": [
  {
   "cell_type": "code",
   "execution_count": 10,
   "metadata": {},
   "outputs": [
    {
     "data": {
      "text/plain": [
       "tuple"
      ]
     },
     "execution_count": 10,
     "metadata": {},
     "output_type": "execute_result"
    }
   ],
   "source": [
    "dias = (\"s\", \"t\", \"q\", \"q\", \"s\", \"s\", \"d\")\n",
    "type(dias)\n"
   ]
  },
  {
   "cell_type": "code",
   "execution_count": 11,
   "metadata": {},
   "outputs": [
    {
     "data": {
      "text/plain": [
       "5"
      ]
     },
     "execution_count": 11,
     "metadata": {},
     "output_type": "execute_result"
    }
   ],
   "source": [
    "valores = (\"a\", \"b\", \"c\", \"d\", \"e\")\n",
    "len(valores)\n",
    "#min(valores)\n",
    "#max(valores)\n"
   ]
  },
  {
   "cell_type": "code",
   "execution_count": 22,
   "metadata": {},
   "outputs": [
    {
     "data": {
      "text/plain": [
       "42"
      ]
     },
     "execution_count": 22,
     "metadata": {},
     "output_type": "execute_result"
    }
   ],
   "source": [
    "ponto = (3, 5)\n",
    "p1 = (3, 5)\n",
    "p2 = (4, 3)\n",
    "p3 = (5, 3)\n",
    "linha = [p1, p2, p3]\n",
    "p1 = (\"flavio\", 43)\n",
    "p2 = (\"ricardo\", 42)\n",
    "instrutores = [p1, p2]\n",
    "instrutores[0]\n",
    "instrutores[1][1]"
   ]
  },
  {
   "cell_type": "code",
   "execution_count": 31,
   "metadata": {},
   "outputs": [
    {
     "data": {
      "text/plain": [
       "['Nico', 'Douglas', 'Flavio', 'Daniel', 'Fabio']"
      ]
     },
     "execution_count": 31,
     "metadata": {},
     "output_type": "execute_result"
    }
   ],
   "source": [
    "nomes = (\"Nico\", \"Douglas\", \"Flavio\", \"Daniel\")\n",
    "nomes = list(nomes)\n",
    "nomes.append(\"Fabio\")\n",
    "nomes\n",
    "\n"
   ]
  },
  {
   "cell_type": "code",
   "execution_count": 33,
   "metadata": {},
   "outputs": [
    {
     "name": "stdout",
     "output_type": "stream",
     "text": [
      "6\n"
     ]
    }
   ],
   "source": [
    "total = 0\n",
    "palvra = \"polly\"\n",
    "acabou = 0\n",
    "\n",
    "while not acabou:\n",
    "    acabou = (total == len(palvra))\n",
    "    total += 1\n",
    "print(total - 1)"
   ]
  },
  {
   "cell_type": "code",
   "execution_count": 41,
   "metadata": {},
   "outputs": [
    {
     "data": {
      "text/plain": [
       "['MACA', 'BANANA', 'LARANJA', 'MELANCIA']"
      ]
     },
     "execution_count": 41,
     "metadata": {},
     "output_type": "execute_result"
    }
   ],
   "source": [
    "frutas = [\"maca\", \"banana\", \"laranja\", \"melancia\"]\n",
    "lista = [fruta.upper() for fruta in frutas]\n",
    "frutas\n",
    "lista\n"
   ]
  },
  {
   "cell_type": "code",
   "execution_count": 45,
   "metadata": {},
   "outputs": [],
   "source": [
    "inteiros = [1, 2, 3, 4, 5, 6, 7, 8]\n",
    "#qdrdos = [n*n for n in inteiros]\n",
    "#qdrdos\n",
    "for n in inteiros:\n",
    "    n *= n\n"
   ]
  },
  {
   "cell_type": "code",
   "execution_count": 55,
   "metadata": {},
   "outputs": [
    {
     "data": {
      "text/plain": [
       "[4, 8]"
      ]
     },
     "execution_count": 55,
     "metadata": {},
     "output_type": "execute_result"
    }
   ],
   "source": [
    "inteiros = [1,3,4,5,7,8,9]\n",
    "pares = [numero for numero in inteiros if numero % 2 == 0]\n",
    "pares"
   ]
  },
  {
   "cell_type": "code",
   "execution_count": 54,
   "metadata": {},
   "outputs": [
    {
     "data": {
      "text/plain": [
       "[4, 8]"
      ]
     },
     "execution_count": 54,
     "metadata": {},
     "output_type": "execute_result"
    }
   ],
   "source": [
    "inteiros = [1, 3, 4, 5, 7, 8, 9]\n",
    "pares = []\n",
    "for numero in inteiros:\n",
    "    if numero % 2 == 0:\n",
    "        pares.append(numero)\n",
    "pares"
   ]
  },
  {
   "cell_type": "code",
   "execution_count": 18,
   "metadata": {},
   "outputs": [
    {
     "name": "stdout",
     "output_type": "stream",
     "text": [
      "melancia\n",
      "\n",
      "morango\n",
      "\n",
      "maça\n",
      "\n"
     ]
    },
    {
     "data": {
      "text/plain": [
       "'maça'"
      ]
     },
     "execution_count": 18,
     "metadata": {},
     "output_type": "execute_result"
    }
   ],
   "source": [
    "arquivo = open(\"palavras.txt\", \"w\")\n",
    "arquivo\n",
    "arquivo.write(\"banana\\n\")\n",
    "arquivo.write(\"melancia\\n\")\n",
    "arquivo.close()\n",
    "\n",
    "arquivo = open(\"palavras.txt\", \"a\")\n",
    "arquivo.write(\"morango\\n\")\n",
    "\n",
    "arquivo.write(\"maça\\n\")\n",
    "arquivo.close()\n",
    "\n",
    "arquivo = open(\"palavras.txt\", \"r\")\n",
    "linha = arquivo.readline()\n",
    "\n",
    "linha\n",
    "for linha in arquivo:\n",
    "    print(linha, end=\"\\n\")\n",
    "linha\n",
    "linha.strip()"
   ]
  },
  {
   "cell_type": "code",
   "execution_count": 3,
   "metadata": {},
   "outputs": [
    {
     "data": {
      "text/plain": [
       "' imagem = open(\"foto.jpg\", \"rb\")\\n\\n#arquivo copia.py\\nlogo = open(\\'python-logo.png\\', \\'rb\\')\\ndata = logo.read()\\nlogo.close()\\n\\nlogo2 = open(\\'python-logo2.png\\', \\'wb\\')\\nlogo2.write(data)\\nlogo2.close() '"
      ]
     },
     "execution_count": 3,
     "metadata": {},
     "output_type": "execute_result"
    }
   ],
   "source": [
    "\"\"\" imagem = open(\"foto.jpg\", \"rb\")\n",
    "\n",
    "#arquivo copia.py\n",
    "logo = open('python-logo.png', 'rb')\n",
    "data = logo.read()\n",
    "logo.close()\n",
    "\n",
    "logo2 = open('python-logo2.png', 'wb')\n",
    "logo2.write(data)\n",
    "logo2.close() \"\"\"\n"
   ]
  },
  {
   "cell_type": "code",
   "execution_count": null,
   "metadata": {},
   "outputs": [],
   "source": []
  }
 ],
 "metadata": {
  "kernelspec": {
   "display_name": "Python 3",
   "language": "python",
   "name": "python3"
  },
  "language_info": {
   "codemirror_mode": {
    "name": "ipython",
    "version": 3
   },
   "file_extension": ".py",
   "mimetype": "text/x-python",
   "name": "python",
   "nbconvert_exporter": "python",
   "pygments_lexer": "ipython3",
   "version": "3.10.10"
  },
  "orig_nbformat": 4
 },
 "nbformat": 4,
 "nbformat_minor": 2
}
