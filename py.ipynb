{
 "cells": [
  {
   "cell_type": "code",
   "execution_count": 10,
   "metadata": {},
   "outputs": [
    {
     "data": {
      "text/plain": [
       "tuple"
      ]
     },
     "execution_count": 10,
     "metadata": {},
     "output_type": "execute_result"
    }
   ],
   "source": [
    "dias = (\"s\", \"t\", \"q\", \"q\", \"s\", \"s\", \"d\")\n",
    "type(dias)\n"
   ]
  },
  {
   "cell_type": "code",
   "execution_count": 11,
   "metadata": {},
   "outputs": [
    {
     "data": {
      "text/plain": [
       "5"
      ]
     },
     "execution_count": 11,
     "metadata": {},
     "output_type": "execute_result"
    }
   ],
   "source": [
    "valores = (\"a\", \"b\", \"c\", \"d\", \"e\")\n",
    "len(valores)\n",
    "#min(valores)\n",
    "#max(valores)\n"
   ]
  },
  {
   "cell_type": "code",
   "execution_count": 22,
   "metadata": {},
   "outputs": [
    {
     "data": {
      "text/plain": [
       "42"
      ]
     },
     "execution_count": 22,
     "metadata": {},
     "output_type": "execute_result"
    }
   ],
   "source": [
    "ponto = (3, 5)\n",
    "p1 = (3, 5)\n",
    "p2 = (4, 3)\n",
    "p3 = (5, 3)\n",
    "linha = [p1, p2, p3]\n",
    "p1 = (\"flavio\", 43)\n",
    "p2 = (\"ricardo\", 42)\n",
    "instrutores = [p1, p2]\n",
    "instrutores[0]\n",
    "instrutores[1][1]"
   ]
  },
  {
   "cell_type": "code",
   "execution_count": 31,
   "metadata": {},
   "outputs": [
    {
     "data": {
      "text/plain": [
       "['Nico', 'Douglas', 'Flavio', 'Daniel', 'Fabio']"
      ]
     },
     "execution_count": 31,
     "metadata": {},
     "output_type": "execute_result"
    }
   ],
   "source": [
    "nomes = (\"Nico\", \"Douglas\", \"Flavio\", \"Daniel\")\n",
    "nomes = list(nomes)\n",
    "nomes.append(\"Fabio\")\n",
    "nomes\n",
    "\n"
   ]
  },
  {
   "cell_type": "code",
   "execution_count": 33,
   "metadata": {},
   "outputs": [
    {
     "name": "stdout",
     "output_type": "stream",
     "text": [
      "6\n"
     ]
    }
   ],
   "source": [
    "total = 0\n",
    "palvra = \"polly\"\n",
    "acabou = 0\n",
    "\n",
    "while not acabou:\n",
    "    acabou = (total == len(palvra))\n",
    "    total += 1\n",
    "print(total - 1)"
   ]
  },
  {
   "cell_type": "code",
   "execution_count": 41,
   "metadata": {},
   "outputs": [
    {
     "data": {
      "text/plain": [
       "['MACA', 'BANANA', 'LARANJA', 'MELANCIA']"
      ]
     },
     "execution_count": 41,
     "metadata": {},
     "output_type": "execute_result"
    }
   ],
   "source": [
    "frutas = [\"maca\", \"banana\", \"laranja\", \"melancia\"]\n",
    "lista = [fruta.upper() for fruta in frutas]\n",
    "frutas\n",
    "lista\n"
   ]
  },
  {
   "cell_type": "code",
   "execution_count": 45,
   "metadata": {},
   "outputs": [],
   "source": [
    "inteiros = [1, 2, 3, 4, 5, 6, 7, 8]\n",
    "#qdrdos = [n*n for n in inteiros]\n",
    "#qdrdos\n",
    "for n in inteiros:\n",
    "    n *= n\n"
   ]
  },
  {
   "cell_type": "code",
   "execution_count": 55,
   "metadata": {},
   "outputs": [
    {
     "data": {
      "text/plain": [
       "[4, 8]"
      ]
     },
     "execution_count": 55,
     "metadata": {},
     "output_type": "execute_result"
    }
   ],
   "source": [
    "inteiros = [1,3,4,5,7,8,9]\n",
    "pares = [numero for numero in inteiros if numero % 2 == 0]\n",
    "pares"
   ]
  },
  {
   "cell_type": "code",
   "execution_count": 54,
   "metadata": {},
   "outputs": [
    {
     "data": {
      "text/plain": [
       "[4, 8]"
      ]
     },
     "execution_count": 54,
     "metadata": {},
     "output_type": "execute_result"
    }
   ],
   "source": [
    "inteiros = [1, 3, 4, 5, 7, 8, 9]\n",
    "pares = []\n",
    "for numero in inteiros:\n",
    "    if numero % 2 == 0:\n",
    "        pares.append(numero)\n",
    "pares"
   ]
  },
  {
   "cell_type": "code",
   "execution_count": 18,
   "metadata": {},
   "outputs": [
    {
     "name": "stdout",
     "output_type": "stream",
     "text": [
      "melancia\n",
      "\n",
      "morango\n",
      "\n",
      "maça\n",
      "\n"
     ]
    },
    {
     "data": {
      "text/plain": [
       "'maça'"
      ]
     },
     "execution_count": 18,
     "metadata": {},
     "output_type": "execute_result"
    }
   ],
   "source": [
    "arquivo = open(\"palavras.txt\", \"w\")\n",
    "arquivo\n",
    "arquivo.write(\"banana\\n\")\n",
    "arquivo.write(\"melancia\\n\")\n",
    "arquivo.close()\n",
    "\n",
    "arquivo = open(\"palavras.txt\", \"a\")\n",
    "arquivo.write(\"morango\\n\")\n",
    "\n",
    "arquivo.write(\"maça\\n\")\n",
    "arquivo.close()\n",
    "\n",
    "arquivo = open(\"palavras.txt\", \"r\")\n",
    "linha = arquivo.readline()\n",
    "\n",
    "linha\n",
    "for linha in arquivo:\n",
    "    print(linha, end=\"\\n\")\n",
    "linha\n",
    "linha.strip()"
   ]
  },
  {
   "cell_type": "code",
   "execution_count": 3,
   "metadata": {},
   "outputs": [
    {
     "data": {
      "text/plain": [
       "' imagem = open(\"foto.jpg\", \"rb\")\\n\\n#arquivo copia.py\\nlogo = open(\\'python-logo.png\\', \\'rb\\')\\ndata = logo.read()\\nlogo.close()\\n\\nlogo2 = open(\\'python-logo2.png\\', \\'wb\\')\\nlogo2.write(data)\\nlogo2.close() '"
      ]
     },
     "execution_count": 3,
     "metadata": {},
     "output_type": "execute_result"
    }
   ],
   "source": [
    "\"\"\" imagem = open(\"foto.jpg\", \"rb\")\n",
    "\n",
    "#arquivo copia.py\n",
    "logo = open('python-logo.png', 'rb')\n",
    "data = logo.read()\n",
    "logo.close()\n",
    "\n",
    "logo2 = open('python-logo2.png', 'wb')\n",
    "logo2.write(data)\n",
    "logo2.close() \"\"\"\n"
   ]
  },
  {
   "cell_type": "code",
   "execution_count": null,
   "metadata": {},
   "outputs": [],
   "source": [
    "##collections:"
   ]
  },
  {
   "cell_type": "code",
   "execution_count": 3,
   "metadata": {},
   "outputs": [
    {
     "data": {
      "text/plain": [
       "[43, 43, 83, 23]"
      ]
     },
     "execution_count": 3,
     "metadata": {},
     "output_type": "execute_result"
    }
   ],
   "source": [
    "\"\"\" idade1 = 39\n",
    "idade2= 30\n",
    "idade3 = 27\n",
    "\n",
    "print(idade1, idade2, idade3) \"\"\"\n",
    "#pra n fazer isso\n",
    "\n",
    "idade = [32, 43, 83, 23]\n",
    "type(idade)\n",
    "idade[0]\n",
    "idade[::-1]\n",
    "idade.append(32)\n",
    "\n",
    "for i in idade:\n",
    "    if i == 32:\n",
    "        idade.remove(32)\n",
    "idade\n",
    "\n",
    "# add o 43 na primeira posicao\n",
    "if 43 in idade:\n",
    "    idade.insert(0, 43)\n",
    "idade\n",
    "\n"
   ]
  },
  {
   "cell_type": "code",
   "execution_count": 14,
   "metadata": {},
   "outputs": [
    {
     "data": {
      "text/plain": [
       "[43, 83, 23, 45, 87, 43]"
      ]
     },
     "execution_count": 14,
     "metadata": {},
     "output_type": "execute_result"
    }
   ],
   "source": [
    "\n",
    "idade = [32, 43, 83, 23]\n",
    "listas = [45, 32, 87, 98, 43]\n",
    "\n",
    "idade.extend(listas)# extendi a idade com lista\n",
    "idade\n",
    "for i in idade:\n",
    "    if i % 2 == 0:\n",
    "        idade.remove(i)\n",
    "idade\n"
   ]
  },
  {
   "cell_type": "code",
   "execution_count": 25,
   "metadata": {},
   "outputs": [
    {
     "data": {
      "text/plain": [
       "[44, 84, 24, 46, 88, 44]"
      ]
     },
     "execution_count": 25,
     "metadata": {},
     "output_type": "execute_result"
    }
   ],
   "source": [
    "idades_ano_qvem = []\n",
    "for k in idade:\n",
    "    idades_ano_qvem.append(k+1)\n",
    "idades_ano_qvem"
   ]
  },
  {
   "cell_type": "code",
   "execution_count": 42,
   "metadata": {},
   "outputs": [
    {
     "data": {
      "text/plain": [
       "[86, 90]"
      ]
     },
     "execution_count": 42,
     "metadata": {},
     "output_type": "execute_result"
    }
   ],
   "source": [
    "\n",
    "#o k soma 3 na idade\n",
    "idades = [(k+3) for k in idade]\n",
    "\n",
    "# minha maneira de retirar itens da lista\n",
    "# nao ta funcionando direito\n",
    "#for j in idades:\n",
    "#    if j < 59:\n",
    "#        idades.remove(j)\n",
    "#idades\n",
    "#profe:\n",
    "[(idade) for idade in idades if idade > 48]\n"
   ]
  },
  {
   "cell_type": "code",
   "execution_count": 72,
   "metadata": {},
   "outputs": [
    {
     "data": {
      "text/plain": [
       "63"
      ]
     },
     "execution_count": 72,
     "metadata": {},
     "output_type": "execute_result"
    }
   ],
   "source": [
    "idades = [32, 42, 52, 62]\n",
    "def proximo_ano(idades):\n",
    "    return idades+1\n",
    "#[proximo_ano(idade) for idade in idades if idade > 51]\n",
    "\n",
    "#for idade in idades:\n",
    "#    if idade > 21:\n",
    "#        proximo_ano(idade)\n"
   ]
  },
  {
   "cell_type": "code",
   "execution_count": 74,
   "metadata": {},
   "outputs": [
    {
     "name": "stdout",
     "output_type": "stream",
     "text": [
      "5\n"
     ]
    },
    {
     "data": {
      "text/plain": [
       "[16, 21, 29, 56, 43]"
      ]
     },
     "execution_count": 74,
     "metadata": {},
     "output_type": "execute_result"
    }
   ],
   "source": [
    "def faz_processamento_de_visualizacao(lista):\n",
    "    print(len(lista))\n",
    "idades = [16, 21, 29, 56, 43]\n",
    "faz_processamento_de_visualizacao(idades)\n",
    "idades"
   ]
  },
  {
   "cell_type": "code",
   "execution_count": 79,
   "metadata": {},
   "outputs": [
    {
     "name": "stdout",
     "output_type": "stream",
     "text": [
      "0\n",
      "1\n",
      "2\n",
      "3\n"
     ]
    }
   ],
   "source": [
    "\"\"\" def faz_processamento_de_visualizacao(lista = []):\n",
    "    print(len(lista))\n",
    "    lista.append(13)\n",
    "faz_processamento_de_visualizacao()\n",
    "faz_processamento_de_visualizacao()\n",
    "faz_processamento_de_visualizacao()\n",
    "faz_processamento_de_visualizacao()\n",
    " \"\"\"\n"
   ]
  },
  {
   "cell_type": "code",
   "execution_count": 80,
   "metadata": {},
   "outputs": [
    {
     "name": "stdout",
     "output_type": "stream",
     "text": [
      "0\n",
      "[]\n",
      "0\n",
      "[]\n",
      "0\n",
      "[]\n"
     ]
    }
   ],
   "source": [
    "def faz_processamento_de_visualizacao(lista =None):\n",
    "    if lista == None:\n",
    "        lista = list()\n",
    "    print(len(lista))\n",
    "    print(lista)\n",
    "    lista.append(13)\n",
    "\n",
    "faz_processamento_de_visualizacao()\n",
    "faz_processamento_de_visualizacao()\n",
    "faz_processamento_de_visualizacao()\n"
   ]
  },
  {
   "cell_type": "code",
   "execution_count": 92,
   "metadata": {},
   "outputs": [
    {
     "name": "stdout",
     "output_type": "stream",
     "text": [
      "[Codigo 15 Saldo 0]\n",
      "[Codigo 15 Saldo 500]\n",
      "[Codigo 16 Saldo 1000]\n",
      "Usando o for nessa minha lista de contas [Codigo 15 Saldo 500]\n",
      "Usando o for nessa minha lista de contas [Codigo 16 Saldo 1000]\n"
     ]
    }
   ],
   "source": [
    "class ContaCorrente:\n",
    "    def __init__(self, codigo):\n",
    "        self.codigo = codigo\n",
    "        self.saldo = 0\n",
    "    def deposita(self, valor):\n",
    "        self.saldo += valor\n",
    "    \n",
    "    def __str__(self):\n",
    "        return \"[Codigo {} Saldo {}]\".format(self.codigo, self.saldo)\n",
    "gui = ContaCorrente(15)\n",
    "print(gui)\n",
    "gui.deposita(500)\n",
    "print(gui)\n",
    "\n",
    "dani = ContaCorrente(16)\n",
    "dani.deposita(1000)\n",
    "print(dani)\n",
    "\n",
    "\n",
    "contas = [gui, dani]\n",
    "for conta in contas:\n",
    "    print(\"Usando o for nessa minha lista de contas\",conta)"
   ]
  },
  {
   "cell_type": "code",
   "execution_count": 97,
   "metadata": {},
   "outputs": [
    {
     "name": "stdout",
     "output_type": "stream",
     "text": [
      "Antes:           [Codigo 15 Saldo 900] [Codigo 16 Saldo 1400]\n",
      "deposito feito:  [Codigo 15 Saldo 1000] [Codigo 16 Saldo 1500]\n"
     ]
    }
   ],
   "source": [
    "def deposita_para_todas(contas):\n",
    "    for conta in contas:\n",
    "        conta.deposita(100)\n",
    "contas = [gui, dani]\n",
    "print(\"Antes:          \",contas[0], contas[1])\n",
    "deposita_para_todas(contas)\n",
    "print(\"deposito feito: \",contas[0], contas[1])"
   ]
  },
  {
   "cell_type": "code",
   "execution_count": 104,
   "metadata": {},
   "outputs": [
    {
     "data": {
      "text/plain": [
       "(15, 1100)"
      ]
     },
     "execution_count": 104,
     "metadata": {},
     "output_type": "execute_result"
    }
   ],
   "source": [
    "# tupla:\n",
    "\n",
    "\"\"\" gui = (15, 1000)\n",
    "gui.deposita() \"\"\"\n",
    "# maneira de add na class com tupla:\n",
    "def deposita(conta):\n",
    "    novo_saldo = conta[1] + 100\n",
    "    codigo = conta[0]\n",
    "    return (codigo, novo_saldo)\n",
    "deposita(gui)"
   ]
  },
  {
   "cell_type": "code",
   "execution_count": 112,
   "metadata": {},
   "outputs": [],
   "source": [
    "guilherme = (\"Gui\", 37, 1981)\n",
    "daniela = (\"Dani\", 31, 1987)\n",
    "usuarios  = [guilherme, daniela]\n",
    "usuarios.append(('Paulo', 39, 1979))\n"
   ]
  },
  {
   "cell_type": "code",
   "execution_count": 51,
   "metadata": {},
   "outputs": [
    {
     "ename": "TypeError",
     "evalue": "Can't instantiate abstract class Conta with abstract method passa_o_mes",
     "output_type": "error",
     "traceback": [
      "\u001b[1;31m---------------------------------------------------------------------------\u001b[0m",
      "\u001b[1;31mTypeError\u001b[0m                                 Traceback (most recent call last)",
      "Cell \u001b[1;32mIn[51], line 26\u001b[0m\n\u001b[0;32m     23\u001b[0m     \u001b[39mdef\u001b[39;00m \u001b[39m__str__\u001b[39m(\u001b[39mself\u001b[39m):\n\u001b[0;32m     24\u001b[0m         \u001b[39mreturn\u001b[39;00m \u001b[39m\"\u001b[39m\u001b[39m[Codigo \u001b[39m\u001b[39m{}\u001b[39;00m\u001b[39m Saldo \u001b[39m\u001b[39m{}\u001b[39;00m\u001b[39m]\u001b[39m\u001b[39m\"\u001b[39m\u001b[39m.\u001b[39mformat(\u001b[39mself\u001b[39m\u001b[39m.\u001b[39m_codigo, \u001b[39mself\u001b[39m\u001b[39m.\u001b[39m_saldo)\n\u001b[1;32m---> 26\u001b[0m \u001b[39mprint\u001b[39m(Conta(\u001b[39m88\u001b[39;49m))\n\u001b[0;32m     28\u001b[0m \u001b[39mclass\u001b[39;00m \u001b[39mContaCorrente\u001b[39;00m(Conta):\n\u001b[0;32m     29\u001b[0m     \u001b[39mdef\u001b[39;00m \u001b[39mpassa_o_mes\u001b[39m(\u001b[39mself\u001b[39m):\n",
      "\u001b[1;31mTypeError\u001b[0m: Can't instantiate abstract class Conta with abstract method passa_o_mes"
     ]
    }
   ],
   "source": [
    "#heranca e polimorfismo\n",
    "\n",
    "from abc import ABCMeta, abstractmethod\n",
    "\n",
    "\n",
    "class Conta(metaclass=ABCMeta):\n",
    "    def __init__(self, codigo):\n",
    "        self._codigo = codigo\n",
    "        self._saldo = 0\n",
    "\n",
    "    def deposita(self, valor):\n",
    "        self._saldo += valor\n",
    "    \n",
    "    \n",
    "    \n",
    "    @abstractmethod\n",
    "    def passa_o_mes(self):\n",
    "        pass\n",
    "    \n",
    "    \n",
    "    \n",
    "    \n",
    "    def __str__(self):\n",
    "        return \"[Codigo {} Saldo {}]\".format(self._codigo, self._saldo)\n",
    "\n",
    "print(Conta(88))\n",
    "\n",
    "class ContaCorrente(Conta):\n",
    "    def passa_o_mes(self):\n",
    "        self._saldo -= 2\n",
    "\n",
    "class ContaPoupanca(Conta):\n",
    "    def passa_o_mes(self):\n",
    "        self._saldo *= 1.01\n",
    "        self._saldo -= 3\n",
    "\n",
    "\n",
    "\n",
    "\n",
    "\n",
    "conta16 = ContaCorrente(16)\n",
    "conta16.deposita(1000)\n",
    "conta16.passa_o_mes()\n",
    "print(conta16)\n",
    "\n",
    "\n",
    "conta17 = ContaPoupanca(16)\n",
    "conta17.deposita(1000)\n",
    "conta17.passa_o_mes()\n",
    "print(conta17)\n",
    "\n",
    "\n",
    "conta16 = ContaCorrente(16)\n",
    "conta16.deposita(1000)\n",
    "conta17 = ContaPoupanca(16)\n",
    "conta17.deposita(1000)\n",
    "contas = [conta16, conta17]\n",
    "for conta in contas:\n",
    "    conta.passa_o_mes()#duck typing\n",
    "    print(conta)"
   ]
  },
  {
   "cell_type": "code",
   "execution_count": 122,
   "metadata": {},
   "outputs": [
    {
     "data": {
      "text/plain": [
       "array('d', [1.0, 3.5])"
      ]
     },
     "execution_count": 122,
     "metadata": {},
     "output_type": "execute_result"
    }
   ],
   "source": [
    "#evitaremos usar\n",
    "\n",
    "import array as arr\n",
    "\n",
    "arr.array('d', [1, 3.5])"
   ]
  },
  {
   "cell_type": "code",
   "execution_count": 125,
   "metadata": {},
   "outputs": [
    {
     "name": "stdout",
     "output_type": "stream",
     "text": [
      "[1.  3.5]\n"
     ]
    },
    {
     "data": {
      "text/plain": [
       "array([4. , 6.5])"
      ]
     },
     "execution_count": 125,
     "metadata": {},
     "output_type": "execute_result"
    }
   ],
   "source": [
    "import numpy as np\n",
    "\n",
    "num = np.array([1, 3.5])\n",
    "print(num)\n",
    "num + 3\n"
   ]
  },
  {
   "attachments": {},
   "cell_type": "markdown",
   "metadata": {},
   "source": [
    "Builtins como enumerated, range e desempacotamento automatico de tuplas\n"
   ]
  },
  {
   "cell_type": "code",
   "execution_count": 1,
   "metadata": {},
   "outputs": [
    {
     "name": "stdout",
     "output_type": "stream",
     "text": [
      "[Codigo 37 Saldo 0]\n",
      "[Codigo 37 Saldo 0]\n",
      "[Codigo 17 Saldo 1000]\n",
      "[Codigo 3 Saldo 2000]\n",
      "[Codigo 133 Saldo 1000]\n",
      "[Codigo 17 Saldo 1000]\n",
      "[Codigo 133 Saldo 1000]\n",
      "[Codigo 3 Saldo 2000]\n"
     ]
    }
   ],
   "source": [
    "class ContaSalario:\n",
    "    def __init__(self, codigo):\n",
    "        self._codigo = codigo\n",
    "        self._saldo = 0\n",
    "# verificar igualdade\n",
    "    def __eq__(self, outro):\n",
    "        if type(outro) != ContaSalario:\n",
    "            return self._codigo == outro._codigo and self._saldo == outro._saldo\n",
    "\n",
    "\n",
    "\n",
    "    def deposita(self, valor):\n",
    "        self._saldo += valor\n",
    "    \n",
    "    def __str__(self) -> str:\n",
    "        return \"[Codigo {} Saldo {}]\".format(self._codigo, self._saldo)\n",
    "\n",
    "conta1 = ContaSalario(37)\n",
    "print(conta1)\n",
    "\n",
    "conta2 = ContaSalario(37)\n",
    "print(conta2)\n",
    "conta1 == conta2#false sem o __eq__\n",
    "##################################################\n",
    "conta_gui = ContaSalario(17)\n",
    "conta_gui.deposita(1000)\n",
    "\n",
    "conta_dani = ContaSalario(3)\n",
    "conta_dani.deposita(2000)\n",
    "\n",
    "conta_paulo = ContaSalario(133)\n",
    "conta_paulo.deposita(1000)\n",
    "contas = [conta_gui, conta_dani, conta_paulo]\n",
    "\n",
    "for conta in contas:\n",
    "    print(conta)\n",
    "\n",
    "\n",
    "def extrai_saldo(conta):\n",
    "    return conta._saldo\n",
    "\n",
    "for conta in sorted(contas, key=extrai_saldo):\n",
    "    print(conta)\n",
    "\n",
    "\n",
    "\n"
   ]
  },
  {
   "cell_type": "code",
   "execution_count": 45,
   "metadata": {},
   "outputs": [
    {
     "name": "stdout",
     "output_type": "stream",
     "text": [
      "1 15\n",
      "2 87\n",
      "3 54\n",
      "4 43\n",
      "5 87\n",
      "6 23\n",
      "7 43\n",
      "8 23\n",
      "0 15 | 1 87 | 2 54 | 3 43 | 4 87 | 5 23 | 6 43 | 7 23 | \n",
      " \n",
      " [(0, 15), (1, 87), (2, 54), (3, 43), (4, 87), (5, 23), (6, 43), (7, 23)]\n",
      "0 x 15\n",
      "1 x 87\n",
      "2 x 54\n",
      "3 x 43\n",
      "4 x 87\n",
      "5 x 23\n",
      "6 x 43\n",
      "7 x 23\n"
     ]
    }
   ],
   "source": [
    "idades = [15, 87, 54, 43, 87, 23, 43, 23]\n",
    "count = 0\n",
    "for idade in idades:\n",
    "    count += 1 \n",
    "    print(count, idade) \n",
    "# envez de fazer dessa maneira é so usar range()\n",
    "\n",
    "for i in range(len(idades)):\n",
    "    print(i, idades[i], end=(\" | \"))\n",
    "\n",
    "# ou usa o enumerate(idades)\n",
    "enumerando = list(enumerate(idades))\n",
    "\n",
    "print(\"\\n \\n\",enumerando)\n",
    "\n",
    "list(range(len(idades)))#forcando a geracao de val\n",
    "\n",
    "# outra maneira de fazer:\n",
    "\n",
    "# pra tirar dos parenteses os vals add indice\n",
    "for indice, idade in enumerate(idades):\n",
    "    print(indice, \"x\", idade)"
   ]
  },
  {
   "cell_type": "code",
   "execution_count": 50,
   "metadata": {},
   "outputs": [
    {
     "name": "stdout",
     "output_type": "stream",
     "text": [
      "1981\n",
      "1987\n",
      "1979\n",
      "Gui\n",
      "Dani\n",
      "Paulo\n"
     ]
    }
   ],
   "source": [
    "usuarios = [\n",
    "    (\"Gui\", 37, 1981),\n",
    "    (\"Dani\", 32, 1987),\n",
    "    (\"Paulo\", 39, 1979)\n",
    "]\n",
    "\n",
    "#desenpacotar tuplas \n",
    "for nome, idade, nascimento in usuarios:\n",
    "    print(nascimento)\n",
    "\n",
    "# pra desempacotar somente o que vou usar\n",
    "for nome, _, _ in usuarios:\n",
    "    print(nome)\n"
   ]
  },
  {
   "attachments": {},
   "cell_type": "markdown",
   "metadata": {},
   "source": [
    "Ordenacao basica"
   ]
  },
  {
   "cell_type": "code",
   "execution_count": 60,
   "metadata": {},
   "outputs": [
    {
     "name": "stdout",
     "output_type": "stream",
     "text": [
      "[15, 23, 23, 43, 43, 54, 87, 87]\n"
     ]
    }
   ],
   "source": [
    "idades\n",
    "ordenado = sorted(idades)\n",
    "print(ordenado)\n",
    "list(reversed(idades))\n",
    "# outra maneira de fazer:\n",
    "sorted(idades, reverse=True)\n",
    "# pra organizar e depois inverter\n",
    "list(reversed(sorted(idades)))\n",
    "# ordenar a lista de fato a original\n",
    "#idades.sort()"
   ]
  },
  {
   "attachments": {},
   "cell_type": "markdown",
   "metadata": {},
   "source": [
    "Ordenação de objetos sem ordem natural"
   ]
  },
  {
   "attachments": {},
   "cell_type": "markdown",
   "metadata": {},
   "source": [
    "talar no codigo do conta salario"
   ]
  },
  {
   "attachments": {},
   "cell_type": "markdown",
   "metadata": {},
   "source": [
    "Implementado o __it__"
   ]
  },
  {
   "cell_type": "code",
   "execution_count": 19,
   "metadata": {},
   "outputs": [],
   "source": [
    "class ContaSalario:\n",
    "    def __init__(self, codigo):\n",
    "        self._codigo = codigo\n",
    "        self._saldo = 0\n",
    "# verificar igualdade\n",
    "\n",
    "    def __eq__(self, outro):\n",
    "        if type(outro) != ContaSalario:\n",
    "            return self._codigo == outro._codigo and self._saldo == outro._saldo\n",
    "\n",
    "    def __lt__(self, outro):\n",
    "        if self._saldo != outro._saldo:\n",
    "            return self._saldo < outro._saldo\n",
    "        else: return self._codigo < outro._codigo\n",
    "\n",
    "    def deposita(self, valor):\n",
    "        self._saldo += valor\n",
    "\n",
    "\n",
    "    def __str__(self) -> str:\n",
    "        return \"[Codigo {} Saldo {}]\".format(self._codigo, self._saldo)\n"
   ]
  },
  {
   "cell_type": "code",
   "execution_count": 20,
   "metadata": {},
   "outputs": [
    {
     "data": {
      "text/plain": [
       "False"
      ]
     },
     "execution_count": 20,
     "metadata": {},
     "output_type": "execute_result"
    }
   ],
   "source": [
    "conta_gui = ContaSalario(17)\n",
    "conta_gui.deposita(1000)\n",
    "\n",
    "conta_dani = ContaSalario(3)\n",
    "conta_dani.deposita(2000)\n",
    "\n",
    "conta_paulo = ContaSalario(133)\n",
    "conta_paulo.deposita(1000)\n",
    "contas = [conta_gui, conta_dani, conta_paulo]\n",
    "\n",
    "conta_gui > conta_dani\n"
   ]
  },
  {
   "cell_type": "code",
   "execution_count": 14,
   "metadata": {},
   "outputs": [
    {
     "name": "stdout",
     "output_type": "stream",
     "text": [
      "[Codigo 17 Saldo 1000]\n",
      "[Codigo 133 Saldo 1000]\n",
      "[Codigo 3 Saldo 2000]\n"
     ]
    }
   ],
   "source": [
    "for conta in sorted(contas):\n",
    "    print(conta)"
   ]
  },
  {
   "attachments": {},
   "cell_type": "markdown",
   "metadata": {},
   "source": [
    "Ordenacao completa e functools"
   ]
  },
  {
   "cell_type": "code",
   "execution_count": 24,
   "metadata": {},
   "outputs": [],
   "source": [
    "conta_gui = ContaSalario(1700)\n",
    "conta_gui.deposita(500)\n",
    "\n",
    "conta_dani = ContaSalario(3)\n",
    "conta_dani.deposita(500)\n",
    "\n",
    "conta_paulo = ContaSalario(133)\n",
    "conta_paulo.deposita(500)\n",
    "contas = [conta_gui, conta_dani, conta_paulo]\n"
   ]
  },
  {
   "cell_type": "code",
   "execution_count": 25,
   "metadata": {},
   "outputs": [
    {
     "name": "stdout",
     "output_type": "stream",
     "text": [
      "[Codigo 3 Saldo 500]\n",
      "[Codigo 133 Saldo 500]\n",
      "[Codigo 1700 Saldo 500]\n"
     ]
    }
   ],
   "source": [
    "from operator import attrgetter\n",
    "\n",
    "for conta in sorted(contas, key=attrgetter(\"_saldo\", \"_codigo\")):\n",
    "    print(conta)"
   ]
  },
  {
   "cell_type": "code",
   "execution_count": 26,
   "metadata": {},
   "outputs": [
    {
     "name": "stdout",
     "output_type": "stream",
     "text": [
      "[Codigo 3 Saldo 500]\n",
      "[Codigo 133 Saldo 500]\n",
      "[Codigo 1700 Saldo 500]\n"
     ]
    }
   ],
   "source": [
    "for conta in sorted(contas):\n",
    "    print(conta)"
   ]
  },
  {
   "cell_type": "code",
   "execution_count": 36,
   "metadata": {},
   "outputs": [],
   "source": [
    "from functools import total_ordering\n",
    "\n",
    "\n",
    "@total_ordering\n",
    "class ContaSalario:\n",
    "    def __init__(self, codigo):\n",
    "        self._codigo = codigo\n",
    "        self._saldo = 0\n",
    "# verificar igualdade\n",
    "\n",
    "    def __eq__(self, outro):\n",
    "        if type(outro) != ContaSalario:\n",
    "            return self._codigo == outro._codigo and self._saldo == outro._saldo\n",
    "\n",
    "    def __lt__(self, outro):\n",
    "        if self._saldo != outro._saldo:\n",
    "            return self._saldo < outro._saldo\n",
    "        return self._codigo < outro._codigo\n",
    "\n",
    "    def deposita(self, valor):\n",
    "        self._saldo += valor\n",
    "\n",
    "    def __str__(self) -> str:\n",
    "        return \"[Codigo {} Saldo {}]\".format(self._codigo, self._saldo)\n",
    "\n",
    "\n",
    "conta_gui = ContaSalario(1700)\n",
    "conta_gui.deposita(500)\n",
    "\n",
    "conta_dani = ContaSalario(3)\n",
    "conta_dani.deposita(500)\n",
    "\n",
    "conta_paulo = ContaSalario(133)\n",
    "conta_paulo.deposita(500)\n",
    "contas = [conta_gui, conta_dani, conta_paulo]\n",
    "\n",
    "conta_gui <= conta_dani\n"
   ]
  },
  {
   "attachments": {},
   "cell_type": "markdown",
   "metadata": {},
   "source": [
    "Forum, questão de um colega"
   ]
  },
  {
   "cell_type": "code",
   "execution_count": 55,
   "metadata": {},
   "outputs": [
    {
     "name": "stdout",
     "output_type": "stream",
     "text": [
      "*** TABUADA DE 10 DE MULTIPLICAR***\n",
      "10 x 1 = 10\n",
      "10 x 2 = 20\n",
      "10 x 3 = 30\n",
      "10 x 4 = 40\n",
      "10 x 5 = 50\n",
      "10 x 6 = 60\n",
      "10 x 7 = 70\n",
      "10 x 8 = 80\n",
      "10 x 9 = 90\n",
      "10 x 10 = 100\n",
      "\n"
     ]
    }
   ],
   "source": [
    "class Tabuada:\n",
    "  # construtor recebe um número que servirá de base para a tabuada\n",
    "  def __init__(self, tabuada_de):  \n",
    "    self._tabuada_de = tabuada_de\n",
    "\n",
    "  # prepara a lista com o número repetido da tabuada que será \n",
    "  # utilizada no enumerate posteriormente\n",
    "  def prepara_lista_base(self):\n",
    "    lista_base_int = []\n",
    "\n",
    "    for i in range(11):\n",
    "      lista_base_int.append(self._tabuada_de)\n",
    "\n",
    "    return lista_base_int\n",
    "\n",
    "  def prepara_tabuada(self):\n",
    "    # cria uma lista com as tuplas \n",
    "    # (enumerador, numero da tabuada)\n",
    "    tabuada = list(enumerate(self.prepara_lista_base()))\n",
    "    # retiramos a primeira tupla da lista com enumerador 0 \n",
    "    # (nossa tabuada vai de 1 a 10 multiplicado por X)\n",
    "    tabuada.remove(tabuada[0])\n",
    "    return tabuada\n",
    "# imprime a tabuada aplicando a operação \n",
    "# de multiplicação e tornando o objeto printável\n",
    "  def __str__(self):  \n",
    "    linha = \"\"\n",
    "    print(f'*** TABUADA DE {self._tabuada_de} DE MULTIPLICAR***')\n",
    "    for n1, n2 in self.prepara_tabuada():\n",
    "      linha = linha + f'{n2} x {n1} = {n1 * n2}\\n'\n",
    "\n",
    "    return linha\n",
    "\n",
    "\n",
    "tab = Tabuada(10)\n",
    "print(tab)\n"
   ]
  },
  {
   "cell_type": "code",
   "execution_count": 64,
   "metadata": {},
   "outputs": [
    {
     "name": "stdout",
     "output_type": "stream",
     "text": [
      "[[0, 0, 0], [0, 0, 1], [0, 1, 0], [1, 0, 0], [1, 1, 1]]\n"
     ]
    }
   ],
   "source": [
    "\n",
    "\"\"\" x = int(input())\n",
    "y = int(input())\n",
    "z = int(input())\n",
    "n = int(input())\n",
    "\n",
    "\n",
    "def soma():\n",
    "    for i in range(x, y, z):\n",
    "        if i == n:\n",
    "\n",
    "            return f'[{x}, {y}, {z}]'\n",
    "\n",
    "soma()\n",
    " \"\"\"\n",
    "#preciso q ele me retorne de 0 ate o val passado em que a soma destas variacoes nao de um val igual a n\n",
    "# uma [x, y, z] em q a soma nao de n\n",
    "#solucao:\n",
    "\n",
    "x = int(input())\n",
    "y = int(input())\n",
    "z = int(input())\n",
    "n = int(input())\n",
    "\n",
    "resultados = []\n",
    "\n",
    "for i in range(x+1):\n",
    "    for j in range(y+1):\n",
    "        for k in range(z+1):\n",
    "            if i + j + k != n:\n",
    "                resultados.append([i, j, k])\n",
    "\n",
    "print(resultados)\n"
   ]
  },
  {
   "attachments": {},
   "cell_type": "markdown",
   "metadata": {},
   "source": [
    "################################################################"
   ]
  },
  {
   "attachments": {},
   "cell_type": "markdown",
   "metadata": {},
   "source": [
    "Collection pt2"
   ]
  },
  {
   "cell_type": "code",
   "execution_count": 76,
   "metadata": {},
   "outputs": [],
   "source": [
    "usuarios_data_science = [15, 23, 43, 56]\n",
    "usuarios_machine_learning = [13, 23, 56, 42]"
   ]
  },
  {
   "cell_type": "code",
   "execution_count": 83,
   "metadata": {},
   "outputs": [
    {
     "data": {
      "text/plain": [
       "[15, 23, 43, 56, 13, 23, 56, 42]"
      ]
     },
     "execution_count": 83,
     "metadata": {},
     "output_type": "execute_result"
    }
   ],
   "source": [
    "assistiram = []\n",
    "assistiram = usuarios_data_science.copy()\n",
    "assistiram.extend(usuarios_machine_learning)\n",
    "assistiram"
   ]
  },
  {
   "cell_type": "code",
   "execution_count": 82,
   "metadata": {},
   "outputs": [
    {
     "data": {
      "text/plain": [
       "{13, 15, 23, 42, 43, 56}"
      ]
     },
     "execution_count": 82,
     "metadata": {},
     "output_type": "execute_result"
    }
   ],
   "source": [
    "len(assistiram)\n",
    "set(assistiram)#pra nao repitir\n",
    "# ou eu posso ja colocar o conjunto ali: { }\n",
    "# usar se a ondem nao importar, usa-se {} conjunto -> set()\n"
   ]
  },
  {
   "cell_type": "code",
   "execution_count": 11,
   "metadata": {},
   "outputs": [
    {
     "data": {
      "text/plain": [
       "{13, 15, 42, 43}"
      ]
     },
     "execution_count": 11,
     "metadata": {},
     "output_type": "execute_result"
    }
   ],
   "source": [
    "# uniao de dois conjuntos:\n",
    "usuarios_data_science = {15, 23, 43, 56}\n",
    "usuarios_machine_learning = {13, 23, 56, 42}\n",
    "                    # uniao\n",
    "usuarios_data_science | usuarios_machine_learning\n",
    "\n",
    "# quem esta nos dois # intercecsao\n",
    "usuarios_data_science & usuarios_machine_learning\n",
    "\n",
    "# tirar quem ta em um mas nao no outro\n",
    "usuarios_data_science - usuarios_machine_learning\n",
    "\n",
    "# que aparece so em um dos dois conjuntos, nums exclusivos\n",
    "usuarios_data_science ^ usuarios_machine_learning"
   ]
  },
  {
   "cell_type": "code",
   "execution_count": 15,
   "metadata": {},
   "outputs": [
    {
     "data": {
      "text/plain": [
       "frozenset"
      ]
     },
     "execution_count": 15,
     "metadata": {},
     "output_type": "execute_result"
    }
   ],
   "source": [
    "usuarios = {1, 5, 76, 34, 52, 13, 17}\n",
    "len(usuarios)\n",
    "usuarios.add(7.5)# só add se nao tiver lá dentro\n",
    "len(usuarios)\n",
    "\n",
    "usuarios = frozenset(usuarios)# pra conjelar o conjunto\n",
    "type(usuarios)"
   ]
  },
  {
   "cell_type": "code",
   "execution_count": 17,
   "metadata": {},
   "outputs": [
    {
     "data": {
      "text/plain": [
       "{'alskdjf',\n",
       " 'asldkj',\n",
       " 'aslkdjf',\n",
       " 'asçkldjf',\n",
       " 'açksdjf',\n",
       " 'salkdjf',\n",
       " 'sassçl',\n",
       " 'sasçlkdjf',\n",
       " 'saçlkdjf',\n",
       " 'saçsdkj',\n",
       " 'sldkjf'}"
      ]
     },
     "execution_count": 17,
     "metadata": {},
     "output_type": "execute_result"
    }
   ],
   "source": [
    "texto = \"sldkjf saçlkdjf asçkldjf sasçlkdjf alskdjf aslkdjf açksdjf salkdjf asldkj saçsdkj sassçl\"\n",
    "set(texto.split(\" \"))"
   ]
  },
  {
   "attachments": {},
   "cell_type": "markdown",
   "metadata": {},
   "source": [
    "Dicionario"
   ]
  },
  {
   "cell_type": "code",
   "execution_count": 24,
   "metadata": {},
   "outputs": [],
   "source": [
    "aparicoes = {\"gui\": 1,\n",
    " \"cachorro\":2,\n",
    " \"nome\": 2,\n",
    " \"vindo\": 1}\n",
    "\n",
    "# outra maneira de fazer \n",
    "# dict(val = 1, etc..)\n"
   ]
  },
  {
   "cell_type": "code",
   "execution_count": 25,
   "metadata": {},
   "outputs": [
    {
     "data": {
      "text/plain": [
       "{'gui': 1, 'cachorro': 2, 'nome': 2, 'vindo': 1, 'carlos': 1}"
      ]
     },
     "execution_count": 25,
     "metadata": {},
     "output_type": "execute_result"
    }
   ],
   "source": [
    "aparicoes[\"carlos\"] = 1\n",
    "aparicoes"
   ]
  },
  {
   "cell_type": "code",
   "execution_count": 26,
   "metadata": {},
   "outputs": [
    {
     "data": {
      "text/plain": [
       "{'gui': 1, 'cachorro': 2, 'nome': 2, 'vindo': 1}"
      ]
     },
     "execution_count": 26,
     "metadata": {},
     "output_type": "execute_result"
    }
   ],
   "source": [
    "#deletar\n",
    "del aparicoes[\"carlos\"]\n",
    "aparicoes"
   ]
  },
  {
   "cell_type": "code",
   "execution_count": 31,
   "metadata": {},
   "outputs": [
    {
     "name": "stdout",
     "output_type": "stream",
     "text": [
      "gui 1\n",
      "cachorro 2\n",
      "nome 2\n",
      "vindo 1\n",
      "1\n",
      "2\n",
      "2\n",
      "1\n",
      "gui = 1\n",
      "cachorro = 2\n",
      "nome = 2\n",
      "vindo = 1\n"
     ]
    }
   ],
   "source": [
    "# a maneira q eu quero chamar\n",
    "for elemento in aparicoes.keys():\n",
    "    print(elemento, aparicoes[elemento])\n",
    "for elemento in aparicoes.values():\n",
    "    print(elemento)\n",
    "\n",
    "for chave, valor in aparicoes.items():\n",
    "    print(chave, \"=\", valor)"
   ]
  },
  {
   "cell_type": "code",
   "execution_count": 32,
   "metadata": {},
   "outputs": [
    {
     "data": {
      "text/plain": [
       "['palavra gui', 'palavra cachorro', 'palavra nome', 'palavra vindo']"
      ]
     },
     "execution_count": 32,
     "metadata": {},
     "output_type": "execute_result"
    }
   ],
   "source": [
    "[\"palavra {}\". format(chave) for chave in aparicoes.keys()]"
   ]
  }
 ],
 "metadata": {
  "kernelspec": {
   "display_name": "Python 3",
   "language": "python",
   "name": "python3"
  },
  "language_info": {
   "codemirror_mode": {
    "name": "ipython",
    "version": 3
   },
   "file_extension": ".py",
   "mimetype": "text/x-python",
   "name": "python",
   "nbconvert_exporter": "python",
   "pygments_lexer": "ipython3",
   "version": "3.10.10"
  },
  "orig_nbformat": 4
 },
 "nbformat": 4,
 "nbformat_minor": 2
}
