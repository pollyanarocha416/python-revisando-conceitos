{
 "cells": [
  {
   "cell_type": "code",
   "execution_count": 10,
   "metadata": {},
   "outputs": [
    {
     "data": {
      "text/plain": [
       "tuple"
      ]
     },
     "execution_count": 10,
     "metadata": {},
     "output_type": "execute_result"
    }
   ],
   "source": [
    "dias = (\"s\", \"t\", \"q\", \"q\", \"s\", \"s\", \"d\")\n",
    "type(dias)\n"
   ]
  },
  {
   "cell_type": "code",
   "execution_count": 11,
   "metadata": {},
   "outputs": [
    {
     "data": {
      "text/plain": [
       "5"
      ]
     },
     "execution_count": 11,
     "metadata": {},
     "output_type": "execute_result"
    }
   ],
   "source": [
    "valores = (\"a\", \"b\", \"c\", \"d\", \"e\")\n",
    "len(valores)\n",
    "#min(valores)\n",
    "#max(valores)\n"
   ]
  },
  {
   "cell_type": "code",
   "execution_count": 22,
   "metadata": {},
   "outputs": [
    {
     "data": {
      "text/plain": [
       "42"
      ]
     },
     "execution_count": 22,
     "metadata": {},
     "output_type": "execute_result"
    }
   ],
   "source": [
    "ponto = (3, 5)\n",
    "p1 = (3, 5)\n",
    "p2 = (4, 3)\n",
    "p3 = (5, 3)\n",
    "linha = [p1, p2, p3]\n",
    "p1 = (\"flavio\", 43)\n",
    "p2 = (\"ricardo\", 42)\n",
    "instrutores = [p1, p2]\n",
    "instrutores[0]\n",
    "instrutores[1][1]"
   ]
  },
  {
   "cell_type": "code",
   "execution_count": 31,
   "metadata": {},
   "outputs": [
    {
     "data": {
      "text/plain": [
       "['Nico', 'Douglas', 'Flavio', 'Daniel', 'Fabio']"
      ]
     },
     "execution_count": 31,
     "metadata": {},
     "output_type": "execute_result"
    }
   ],
   "source": [
    "nomes = (\"Nico\", \"Douglas\", \"Flavio\", \"Daniel\")\n",
    "nomes = list(nomes)\n",
    "nomes.append(\"Fabio\")\n",
    "nomes\n",
    "\n"
   ]
  },
  {
   "cell_type": "code",
   "execution_count": 33,
   "metadata": {},
   "outputs": [
    {
     "name": "stdout",
     "output_type": "stream",
     "text": [
      "6\n"
     ]
    }
   ],
   "source": [
    "total = 0\n",
    "palvra = \"polly\"\n",
    "acabou = 0\n",
    "\n",
    "while not acabou:\n",
    "    acabou = (total == len(palvra))\n",
    "    total += 1\n",
    "print(total - 1)"
   ]
  }
 ],
 "metadata": {
  "kernelspec": {
   "display_name": "Python 3",
   "language": "python",
   "name": "python3"
  },
  "language_info": {
   "codemirror_mode": {
    "name": "ipython",
    "version": 3
   },
   "file_extension": ".py",
   "mimetype": "text/x-python",
   "name": "python",
   "nbconvert_exporter": "python",
   "pygments_lexer": "ipython3",
   "version": "3.10.10"
  },
  "orig_nbformat": 4
 },
 "nbformat": 4,
 "nbformat_minor": 2
}
