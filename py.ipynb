{
 "cells": [
  {
   "cell_type": "code",
   "execution_count": 10,
   "metadata": {},
   "outputs": [
    {
     "data": {
      "text/plain": [
       "tuple"
      ]
     },
     "execution_count": 10,
     "metadata": {},
     "output_type": "execute_result"
    }
   ],
   "source": [
    "dias = (\"s\", \"t\", \"q\", \"q\", \"s\", \"s\", \"d\")\n",
    "type(dias)\n"
   ]
  },
  {
   "cell_type": "code",
   "execution_count": 11,
   "metadata": {},
   "outputs": [
    {
     "data": {
      "text/plain": [
       "5"
      ]
     },
     "execution_count": 11,
     "metadata": {},
     "output_type": "execute_result"
    }
   ],
   "source": [
    "valores = (\"a\", \"b\", \"c\", \"d\", \"e\")\n",
    "len(valores)\n",
    "#min(valores)\n",
    "#max(valores)\n"
   ]
  },
  {
   "cell_type": "code",
   "execution_count": 22,
   "metadata": {},
   "outputs": [
    {
     "data": {
      "text/plain": [
       "42"
      ]
     },
     "execution_count": 22,
     "metadata": {},
     "output_type": "execute_result"
    }
   ],
   "source": [
    "ponto = (3, 5)\n",
    "p1 = (3, 5)\n",
    "p2 = (4, 3)\n",
    "p3 = (5, 3)\n",
    "linha = [p1, p2, p3]\n",
    "p1 = (\"flavio\", 43)\n",
    "p2 = (\"ricardo\", 42)\n",
    "instrutores = [p1, p2]\n",
    "instrutores[0]\n",
    "instrutores[1][1]"
   ]
  },
  {
   "cell_type": "code",
   "execution_count": 31,
   "metadata": {},
   "outputs": [
    {
     "data": {
      "text/plain": [
       "['Nico', 'Douglas', 'Flavio', 'Daniel', 'Fabio']"
      ]
     },
     "execution_count": 31,
     "metadata": {},
     "output_type": "execute_result"
    }
   ],
   "source": [
    "nomes = (\"Nico\", \"Douglas\", \"Flavio\", \"Daniel\")\n",
    "nomes = list(nomes)\n",
    "nomes.append(\"Fabio\")\n",
    "nomes\n",
    "\n"
   ]
  },
  {
   "cell_type": "code",
   "execution_count": 33,
   "metadata": {},
   "outputs": [
    {
     "name": "stdout",
     "output_type": "stream",
     "text": [
      "6\n"
     ]
    }
   ],
   "source": [
    "total = 0\n",
    "palvra = \"polly\"\n",
    "acabou = 0\n",
    "\n",
    "while not acabou:\n",
    "    acabou = (total == len(palvra))\n",
    "    total += 1\n",
    "print(total - 1)"
   ]
  },
  {
   "cell_type": "code",
   "execution_count": 41,
   "metadata": {},
   "outputs": [
    {
     "data": {
      "text/plain": [
       "['MACA', 'BANANA', 'LARANJA', 'MELANCIA']"
      ]
     },
     "execution_count": 41,
     "metadata": {},
     "output_type": "execute_result"
    }
   ],
   "source": [
    "frutas = [\"maca\", \"banana\", \"laranja\", \"melancia\"]\n",
    "lista = [fruta.upper() for fruta in frutas]\n",
    "frutas\n",
    "lista\n"
   ]
  },
  {
   "cell_type": "code",
   "execution_count": 45,
   "metadata": {},
   "outputs": [],
   "source": [
    "inteiros = [1, 2, 3, 4, 5, 6, 7, 8]\n",
    "#qdrdos = [n*n for n in inteiros]\n",
    "#qdrdos\n",
    "for n in inteiros:\n",
    "    n *= n\n"
   ]
  },
  {
   "cell_type": "code",
   "execution_count": 55,
   "metadata": {},
   "outputs": [
    {
     "data": {
      "text/plain": [
       "[4, 8]"
      ]
     },
     "execution_count": 55,
     "metadata": {},
     "output_type": "execute_result"
    }
   ],
   "source": [
    "inteiros = [1,3,4,5,7,8,9]\n",
    "pares = [numero for numero in inteiros if numero % 2 == 0]\n",
    "pares"
   ]
  },
  {
   "cell_type": "code",
   "execution_count": 54,
   "metadata": {},
   "outputs": [
    {
     "data": {
      "text/plain": [
       "[4, 8]"
      ]
     },
     "execution_count": 54,
     "metadata": {},
     "output_type": "execute_result"
    }
   ],
   "source": [
    "inteiros = [1, 3, 4, 5, 7, 8, 9]\n",
    "pares = []\n",
    "for numero in inteiros:\n",
    "    if numero % 2 == 0:\n",
    "        pares.append(numero)\n",
    "pares"
   ]
  },
  {
   "cell_type": "code",
   "execution_count": 18,
   "metadata": {},
   "outputs": [
    {
     "name": "stdout",
     "output_type": "stream",
     "text": [
      "melancia\n",
      "\n",
      "morango\n",
      "\n",
      "maça\n",
      "\n"
     ]
    },
    {
     "data": {
      "text/plain": [
       "'maça'"
      ]
     },
     "execution_count": 18,
     "metadata": {},
     "output_type": "execute_result"
    }
   ],
   "source": [
    "arquivo = open(\"palavras.txt\", \"w\")\n",
    "arquivo\n",
    "arquivo.write(\"banana\\n\")\n",
    "arquivo.write(\"melancia\\n\")\n",
    "arquivo.close()\n",
    "\n",
    "arquivo = open(\"palavras.txt\", \"a\")\n",
    "arquivo.write(\"morango\\n\")\n",
    "\n",
    "arquivo.write(\"maça\\n\")\n",
    "arquivo.close()\n",
    "\n",
    "arquivo = open(\"palavras.txt\", \"r\")\n",
    "linha = arquivo.readline()\n",
    "\n",
    "linha\n",
    "for linha in arquivo:\n",
    "    print(linha, end=\"\\n\")\n",
    "linha\n",
    "linha.strip()"
   ]
  },
  {
   "cell_type": "code",
   "execution_count": 3,
   "metadata": {},
   "outputs": [
    {
     "data": {
      "text/plain": [
       "' imagem = open(\"foto.jpg\", \"rb\")\\n\\n#arquivo copia.py\\nlogo = open(\\'python-logo.png\\', \\'rb\\')\\ndata = logo.read()\\nlogo.close()\\n\\nlogo2 = open(\\'python-logo2.png\\', \\'wb\\')\\nlogo2.write(data)\\nlogo2.close() '"
      ]
     },
     "execution_count": 3,
     "metadata": {},
     "output_type": "execute_result"
    }
   ],
   "source": [
    "\"\"\" imagem = open(\"foto.jpg\", \"rb\")\n",
    "\n",
    "#arquivo copia.py\n",
    "logo = open('python-logo.png', 'rb')\n",
    "data = logo.read()\n",
    "logo.close()\n",
    "\n",
    "logo2 = open('python-logo2.png', 'wb')\n",
    "logo2.write(data)\n",
    "logo2.close() \"\"\"\n"
   ]
  },
  {
   "cell_type": "code",
   "execution_count": null,
   "metadata": {},
   "outputs": [],
   "source": [
    "##collections:"
   ]
  },
  {
   "cell_type": "code",
   "execution_count": 3,
   "metadata": {},
   "outputs": [
    {
     "data": {
      "text/plain": [
       "[43, 43, 83, 23]"
      ]
     },
     "execution_count": 3,
     "metadata": {},
     "output_type": "execute_result"
    }
   ],
   "source": [
    "\"\"\" idade1 = 39\n",
    "idade2= 30\n",
    "idade3 = 27\n",
    "\n",
    "print(idade1, idade2, idade3) \"\"\"\n",
    "#pra n fazer isso\n",
    "\n",
    "idade = [32, 43, 83, 23]\n",
    "type(idade)\n",
    "idade[0]\n",
    "idade[::-1]\n",
    "idade.append(32)\n",
    "\n",
    "for i in idade:\n",
    "    if i == 32:\n",
    "        idade.remove(32)\n",
    "idade\n",
    "\n",
    "# add o 43 na primeira posicao\n",
    "if 43 in idade:\n",
    "    idade.insert(0, 43)\n",
    "idade\n",
    "\n"
   ]
  },
  {
   "cell_type": "code",
   "execution_count": 14,
   "metadata": {},
   "outputs": [
    {
     "data": {
      "text/plain": [
       "[43, 83, 23, 45, 87, 43]"
      ]
     },
     "execution_count": 14,
     "metadata": {},
     "output_type": "execute_result"
    }
   ],
   "source": [
    "\n",
    "idade = [32, 43, 83, 23]\n",
    "listas = [45, 32, 87, 98, 43]\n",
    "\n",
    "idade.extend(listas)# extendi a idade com lista\n",
    "idade\n",
    "for i in idade:\n",
    "    if i % 2 == 0:\n",
    "        idade.remove(i)\n",
    "idade\n"
   ]
  },
  {
   "cell_type": "code",
   "execution_count": 25,
   "metadata": {},
   "outputs": [
    {
     "data": {
      "text/plain": [
       "[44, 84, 24, 46, 88, 44]"
      ]
     },
     "execution_count": 25,
     "metadata": {},
     "output_type": "execute_result"
    }
   ],
   "source": [
    "idades_ano_qvem = []\n",
    "for k in idade:\n",
    "    idades_ano_qvem.append(k+1)\n",
    "idades_ano_qvem"
   ]
  },
  {
   "cell_type": "code",
   "execution_count": 42,
   "metadata": {},
   "outputs": [
    {
     "data": {
      "text/plain": [
       "[86, 90]"
      ]
     },
     "execution_count": 42,
     "metadata": {},
     "output_type": "execute_result"
    }
   ],
   "source": [
    "\n",
    "#o k soma 3 na idade\n",
    "idades = [(k+3) for k in idade]\n",
    "\n",
    "# minha maneira de retirar itens da lista\n",
    "# nao ta funcionando direito\n",
    "#for j in idades:\n",
    "#    if j < 59:\n",
    "#        idades.remove(j)\n",
    "#idades\n",
    "#profe:\n",
    "[(idade) for idade in idades if idade > 48]\n"
   ]
  },
  {
   "cell_type": "code",
   "execution_count": 72,
   "metadata": {},
   "outputs": [
    {
     "data": {
      "text/plain": [
       "63"
      ]
     },
     "execution_count": 72,
     "metadata": {},
     "output_type": "execute_result"
    }
   ],
   "source": [
    "idades = [32, 42, 52, 62]\n",
    "def proximo_ano(idades):\n",
    "    return idades+1\n",
    "#[proximo_ano(idade) for idade in idades if idade > 51]\n",
    "\n",
    "#for idade in idades:\n",
    "#    if idade > 21:\n",
    "#        proximo_ano(idade)\n"
   ]
  },
  {
   "cell_type": "code",
   "execution_count": null,
   "metadata": {},
   "outputs": [],
   "source": []
  }
 ],
 "metadata": {
  "kernelspec": {
   "display_name": "Python 3",
   "language": "python",
   "name": "python3"
  },
  "language_info": {
   "codemirror_mode": {
    "name": "ipython",
    "version": 3
   },
   "file_extension": ".py",
   "mimetype": "text/x-python",
   "name": "python",
   "nbconvert_exporter": "python",
   "pygments_lexer": "ipython3",
   "version": "3.10.10"
  },
  "orig_nbformat": 4
 },
 "nbformat": 4,
 "nbformat_minor": 2
}
