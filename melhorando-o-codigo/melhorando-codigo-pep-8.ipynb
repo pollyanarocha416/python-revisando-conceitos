{
 "cells": [
  {
   "attachments": {},
   "cell_type": "markdown",
   "metadata": {},
   "source": [
    "Melhorando o codigo com PEP-8,\n",
    "Type hints e Code Lint"
   ]
  },
  {
   "cell_type": "code",
   "execution_count": 8,
   "metadata": {},
   "outputs": [
    {
     "name": "stdout",
     "output_type": "stream",
     "text": [
      "Movimentando Bracos.....\n",
      "Andando.....\n"
     ]
    }
   ],
   "source": [
    "class Pessoa:\n",
    "    def __init__(self, perna_esquerda, perna_direita, braco_esquerdo, braco_direito):\n",
    "        self.perna_esquerda = perna_esquerda\n",
    "        self.perna_direita = perna_direita\n",
    "        self.braco_esquerdo = braco_esquerdo\n",
    "        self.braco_direito = braco_direito\n",
    "\n",
    "    def andar(self):\n",
    "        if self.perna_esquerda and self.perna_direita:\n",
    "            print('Andando.....')\n",
    "\n",
    "    def movimentar_bracos(self):\n",
    "        if self.braco_esquerdo and self.braco_direito:\n",
    "            print('Movimentando Bracos.....')\n",
    "\n",
    "\n",
    "polly = Pessoa(True, True, True, True)\n",
    "polly.movimentar_bracos()\n",
    "polly.andar()\n"
   ]
  },
  {
   "cell_type": "code",
   "execution_count": 40,
   "metadata": {},
   "outputs": [
    {
     "data": {
      "text/plain": [
       "97"
      ]
     },
     "execution_count": 40,
     "metadata": {},
     "output_type": "execute_result"
    }
   ],
   "source": [
    "import random\n",
    "prob = random.randrange(1, 101)\n",
    "prob"
   ]
  }
 ],
 "metadata": {
  "kernelspec": {
   "display_name": "Python 3",
   "language": "python",
   "name": "python3"
  },
  "language_info": {
   "codemirror_mode": {
    "name": "ipython",
    "version": 3
   },
   "file_extension": ".py",
   "mimetype": "text/x-python",
   "name": "python",
   "nbconvert_exporter": "python",
   "pygments_lexer": "ipython3",
   "version": "3.10.10"
  },
  "orig_nbformat": 4
 },
 "nbformat": 4,
 "nbformat_minor": 2
}
